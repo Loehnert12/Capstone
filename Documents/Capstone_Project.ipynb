{
 "cells": [
  {
   "cell_type": "code",
   "execution_count": null,
   "metadata": {},
   "outputs": [],
   "source": [
    "import pandas as pd\n",
    "import numpy as np\n",
    "import matplotlib as plot\n",
    "import openpyxl"
   ]
  },
  {
   "cell_type": "code",
   "execution_count": null,
   "metadata": {},
   "outputs": [],
   "source": [
    "# Converted the bowl data excel sheet into a csv file.\n",
    "\n",
    "bowl_sheet = pd.read_excel(r'C:\\Users\\danie\\OneDrive\\Desktop\\SavvyCoders\\Capstone\\Project\\collegefootballbowl.xlsx')\n",
    "bowl_sheet.to_csv(r'C:\\Users\\danie\\OneDrive\\Desktop\\SavvyCoders\\Capstone\\Project\\collegefootballbowl.csv')"
   ]
  },
  {
   "cell_type": "code",
   "execution_count": null,
   "metadata": {},
   "outputs": [],
   "source": [
    "# Grabbed basic info of the csv file\n",
    "\n",
    "bowl_sheet = pd.read_csv(r'C:\\Users\\danie\\OneDrive\\Desktop\\SavvyCoders\\Capstone\\Project\\collegefootballbowl.csv')\n",
    "bowl_sheet.info()\n",
    "bowl_sheet"
   ]
  },
  {
   "cell_type": "code",
   "execution_count": null,
   "metadata": {},
   "outputs": [],
   "source": [
    "# Printed the total bowl game average.\n",
    "\n",
    "print('Average Bowl Attendance: ', round(bowl_sheet['attendance'].mean(), 2))"
   ]
  },
  {
   "cell_type": "code",
   "execution_count": null,
   "metadata": {},
   "outputs": [],
   "source": [
    "# Specified down to only the winner/loser of the bowl game and what the attendance was at that game.\n",
    "\n",
    "bowl_sheet1 = bowl_sheet[['winner_tie', 'attendance']]\n",
    "bowl_sheet2 = bowl_sheet[['loser_tie', 'attendance']]"
   ]
  },
  {
   "cell_type": "code",
   "execution_count": null,
   "metadata": {},
   "outputs": [],
   "source": [
    "# Different data cleaning methods\n",
    "print(bowl_sheet1.head())\n",
    "print(bowl_sheet1.info())\n",
    "bowl_sheet1.describe()"
   ]
  },
  {
   "cell_type": "code",
   "execution_count": null,
   "metadata": {},
   "outputs": [],
   "source": [
    "# Sorted the winner in alphabetical order. Saved the new data into a new excel sheet.\n",
    "bowl_sheet1.sort_values('winner_tie', ascending= True)\n",
    "# bowl_sheet1.to_excel(r'C:\\Users\\danie\\OneDrive\\Desktop\\SavvyCoders\\Capstone Data\\College Football Data\\Winner_attendance.xlsx')"
   ]
  },
  {
   "cell_type": "code",
   "execution_count": null,
   "metadata": {},
   "outputs": [],
   "source": [
    "# Got the top 20 teams who won and how many wins total.\n",
    "bowl_sheet1['winner_tie'].value_counts().head(20)"
   ]
  },
  {
   "cell_type": "code",
   "execution_count": null,
   "metadata": {},
   "outputs": [],
   "source": [
    "# Sorted the loser in alphabetical order. Saved the new data into a new excel sheet.\n",
    "bowl_sheet2.sort_values('loser_tie', ascending= True)\n",
    "bowl_sheet2.to_excel(r'C:\\Users\\danie\\OneDrive\\Desktop\\SavvyCoders\\Capstone Data\\College Football Data\\Loser_attendance.xlsx')"
   ]
  },
  {
   "cell_type": "code",
   "execution_count": null,
   "metadata": {},
   "outputs": [],
   "source": [
    "# Converted data.\n",
    "Bowl_sheet3 = pd.read_excel(r'C:\\Users\\danie\\OneDrive\\Desktop\\SavvyCoders\\Capstone Data\\College Football Data\\Winner_attendance.xlsx')\n",
    "Bowl_sheet3.to_csv(r'C:\\Users\\danie\\OneDrive\\Desktop\\SavvyCoders\\Capstone Data\\College Football Data\\Winner_attendance.csv')\n",
    "Bowl_sheet3.fillna(49487, inplace = True)\n",
    "Bowl_sheet3.to_excel(r'C:\\Users\\danie\\OneDrive\\Desktop\\SavvyCoders\\Capstone Data\\College Football Data\\Winner_attendance.xlsx')"
   ]
  },
  {
   "cell_type": "code",
   "execution_count": null,
   "metadata": {},
   "outputs": [],
   "source": [
    "# Converted data.\n",
    "Bowl_sheet4 = pd.read_excel(r'C:\\Users\\danie\\OneDrive\\Desktop\\SavvyCoders\\Capstone Data\\College Football Data\\Loser_attendance.xlsx')\n",
    "Bowl_sheet4.to_csv(r'C:\\Users\\danie\\OneDrive\\Desktop\\SavvyCoders\\Capstone Data\\College Football Data\\Loser_attendance.csv')\n",
    "Bowl_sheet4.fillna(49487, inplace = True)\n",
    "Bowl_sheet4.to_excel(r'C:\\Users\\danie\\OneDrive\\Desktop\\SavvyCoders\\Capstone Data\\College Football Data\\Loser_attendance.xlsx')"
   ]
  },
  {
   "cell_type": "code",
   "execution_count": null,
   "metadata": {},
   "outputs": [],
   "source": [
    "# Used SQL to show bowl games from 1980-2022.\n",
    "# Read the csv into a dataframe so I can organize it.\n",
    "bowl_sheet1980 = pd.read_csv(r'C:\\Users\\danie\\OneDrive\\Desktop\\SavvyCoders\\Capstone\\Project\\1980_Bowl_Games.csv')\n",
    "bowl_sheet1980_1 = bowl_sheet1980[['winner_tie', 'attendance']]\n"
   ]
  },
  {
   "cell_type": "code",
   "execution_count": null,
   "metadata": {},
   "outputs": [],
   "source": [
    "print('Average Bowl Attendance: ', round(bowl_sheet1980_1['attendance'].mean(), 2))"
   ]
  },
  {
   "cell_type": "code",
   "execution_count": null,
   "metadata": {},
   "outputs": [],
   "source": [
    "# Filled null values with the average overall attendance at games\n",
    "bowl_sheet1980_1.fillna(48502.74)\n",
    "bowl_sheet1980_1.sort_values('winner_tie', ascending= True)\n"
   ]
  },
  {
   "cell_type": "code",
   "execution_count": null,
   "metadata": {},
   "outputs": [],
   "source": [
    "bowl_sheet1980_2 = bowl_sheet1980[['loser_tie', 'attendance']]"
   ]
  },
  {
   "cell_type": "code",
   "execution_count": null,
   "metadata": {},
   "outputs": [],
   "source": [
    "bowl_sheet1980_2.fillna(48502.74)\n",
    "bowl_sheet1980_2.sort_values('loser_tie', ascending= True)"
   ]
  },
  {
   "cell_type": "code",
   "execution_count": null,
   "metadata": {},
   "outputs": [],
   "source": [
    "bowl_sheet1980_1['winner_tie'].value_counts().head(20)"
   ]
  },
  {
   "cell_type": "code",
   "execution_count": null,
   "metadata": {},
   "outputs": [],
   "source": [
    "bowl_sheet1980_1.to_excel(r'C:\\Users\\danie\\OneDrive\\Desktop\\SavvyCoders\\Capstone\\Project\\1980_Bowl_Games.xlsx')"
   ]
  },
  {
   "cell_type": "code",
   "execution_count": null,
   "metadata": {},
   "outputs": [],
   "source": [
    "bowl_sheet1980_2.to_excel(r'C:\\Users\\danie\\OneDrive\\Desktop\\SavvyCoders\\Capstone\\Project\\1980_Bowl_Games2.xlsx')"
   ]
  },
  {
   "cell_type": "code",
   "execution_count": 51,
   "metadata": {},
   "outputs": [
    {
     "name": "stdout",
     "output_type": "stream",
     "text": [
      "None\n"
     ]
    }
   ],
   "source": [
    "import requests\n",
    "from bs4 import BeautifulSoup\n",
    "import pandas as pd\n",
    "import urllib.request\n",
    "from pprint import pprint\n",
    "from html_table_parser.parser import HTMLTableParser\n",
    "\n",
    "# def url_get_contents(url):\n",
    "#     req = urllib.request.Request(url=url)\n",
    "#     f = urllib.request.urlopen(req)\n",
    "#     return f.read()\n",
    "\n",
    "# xhtml = url_get_contents('https://en.wikipedia.org/wiki/List_of_College_Football_Playoff_games')\n",
    "# p = HTMLTableParser()\n",
    "# p.feed(xhtml)\n",
    "# # pprint(p.tables[1])\n",
    "# # # print(\"\\n\\nPANDAS \")\n",
    "\n",
    "url = \"https://en.wikipedia.org/wiki/List_of_College_Football_Playoff_games\"\n",
    "r = requests.get(url)\n",
    "\n",
    "soup = BeautifulSoup(r.text, \"html5lib\")\n",
    "\n",
    "table = soup.find(\"table\", class_ = \"wikitable sortable jquery-tablesorter\")\n"
   ]
  }
 ],
 "metadata": {
  "kernelspec": {
   "display_name": "Python 3",
   "language": "python",
   "name": "python3"
  },
  "language_info": {
   "codemirror_mode": {
    "name": "ipython",
    "version": 3
   },
   "file_extension": ".py",
   "mimetype": "text/x-python",
   "name": "python",
   "nbconvert_exporter": "python",
   "pygments_lexer": "ipython3",
   "version": "3.11.5"
  }
 },
 "nbformat": 4,
 "nbformat_minor": 2
}
